{
  "nbformat": 4,
  "nbformat_minor": 0,
  "metadata": {
    "colab": {
      "provenance": []
    },
    "kernelspec": {
      "name": "python3",
      "display_name": "Python 3"
    },
    "language_info": {
      "name": "python"
    }
  },
  "cells": [
    {
      "cell_type": "code",
      "execution_count": 1,
      "metadata": {
        "id": "qAfyOn5AHijO"
      },
      "outputs": [],
      "source": [
        "\n",
        "class Batch:\n",
        "  def __init__(self, catalyzer1, catalyzer2):\n",
        "    self.catalyzer1=catalyzer1\n",
        "    self.catalyzer2=catalyzer2\n",
        "\n",
        "class Chamber:\n",
        "  def __init__(self, number, next_chamber):\n",
        "    self.number=number\n",
        "    self.next_chamber=next_chamber\n",
        "  def pass_along(self, thing: Batch):\n",
        "    pass\n",
        "\n",
        "class Filter:\n",
        "  def __init__(self, brand, model, contamination):\n",
        "    self.barnd=brand\n",
        "    self.model=model\n",
        "    self.contamination=contamination\n",
        "  def run_diagnostics (self):\n",
        "    pass\n",
        "  def replace (self):\n",
        "    contamination=0\n",
        "\n",
        "class MakeBatch:\n",
        "  def __init__(self, vapour_temp, pressure, catalyzer1, contaminants):\n",
        "    self.vapour_temp=vapour_temp\n",
        "    self.pressure=pressure\n",
        "    self.catalyzer1=catalyzer1\n",
        "    self.contaminants=contaminants\n",
        "  def batchProduce (self) -> Batch:\n",
        "    pass\n",
        "\n",
        "class OxidationChamber(Chamber):\n",
        "  def __init__(self, oxygen_level, catalyzer2):\n",
        "    self.oxygen_level=oxygen_level\n",
        "    self.catalyzer2=catalyzer2\n",
        "  def Oxidation(self, thing: Batch):\n",
        "    pass\n",
        "\n",
        "class NitrogenAcidChamber(Chamber):\n",
        "  def __init__(self, acid_concentration):\n",
        "    self.acid_concentration=acid_concentration\n",
        "  def concetrate(self, thing: Batch):\n",
        "    pass\n",
        "  def get_rid_off(self, thing: Batch):\n",
        "    pass\n",
        "\n",
        "class AbsorptionChamber(Chamber):\n",
        "  def __init__(self, water, current_filter):\n",
        "    self.water=water\n",
        "    self.current_filter=current_filter\n",
        "  def absorbation (self, thing: Batch):\n",
        "    pass\n",
        "\n",
        "\n",
        "\n"
      ]
    }
  ]
}